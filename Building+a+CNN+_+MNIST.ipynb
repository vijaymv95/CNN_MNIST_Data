{
  "cells": [
    {
      "cell_type": "markdown",
      "metadata": {
        "id": "J3KWeLwkA6db"
      },
      "source": [
        "# Building a Basic CNN: The MNIST Dataset\n",
        "\n",
        "In this notebook, we will build a simple CNN-based architecture to classify the 10 digits (0-9) of the MNIST dataset. The objective of this notebook is to become familiar with the process of building CNNs in Keras.\n",
        "\n",
        "We will go through the following steps:\n",
        "1. Importing libraries and the dataset\n",
        "2. Data preparation: Train-test split, specifying the shape of the input data etc.\n",
        "3. Building and understanding the CNN architecture\n",
        "4. Fitting and evaluating the model\n",
        "\n",
        "Let's dive in."
      ]
    },
    {
      "cell_type": "markdown",
      "metadata": {
        "id": "M_SVFZMcA6de"
      },
      "source": [
        "## 1. Importing Libraries and the Dataset\n",
        "\n",
        "Let's load the required libraries. From Keras, we need to import two main components:\n",
        "1. `Sequential` from `keras.models`: `Sequential` is the keras abstraction for creating models with a stack of layers (MLP has multiple hidden layers, CNNs have convolutional layers, etc.).\n",
        "2. Various types of layers from `keras.layers`: These layers are added (one after the other) to the `Sequential` model\n",
        "\n",
        "The keras `backend` is needed for keras to know that you are using tensorflow (not Theano) at the backend (the backend is <a href=\"https://keras.io/backend/\">specified in a JSON file</a>).\n"
      ]
    },
    {
      "cell_type": "code",
      "execution_count": null,
      "metadata": {
        "id": "xdRjYC7fA6de"
      },
      "outputs": [],
      "source": [
        "import numpy as np\n",
        "import random\n",
        "import tensorflow as tf\n",
        "from tensorflow.keras.datasets import mnist\n",
        "from tensorflow.keras import Sequential\n",
        "from tensorflow.keras.layers import Dense, Dropout, Flatten, Conv2D, MaxPooling2D"
      ]
    },
    {
      "cell_type": "markdown",
      "metadata": {
        "id": "ZFcobbsTA6df"
      },
      "source": [
        "Let's load the MNIST dataset from `keras.datasets`. The download may take a few minutes."
      ]
    },
    {
      "cell_type": "code",
      "execution_count": null,
      "metadata": {
        "colab": {
          "base_uri": "https://localhost:8080/"
        },
        "id": "ruxiY49mA6dg",
        "outputId": "1b18a498-c7b6-4ae2-eff6-bc10a8e398f9"
      },
      "outputs": [
        {
          "output_type": "stream",
          "name": "stdout",
          "text": [
            "Downloading data from https://storage.googleapis.com/tensorflow/tf-keras-datasets/mnist.npz\n",
            "11490434/11490434 [==============================] - 0s 0us/step\n"
          ]
        }
      ],
      "source": [
        "# load the dataset into train and test sets\n",
        "(x_train, y_train), (x_test, y_test) = mnist.load_data()"
      ]
    },
    {
      "cell_type": "code",
      "execution_count": null,
      "metadata": {
        "scrolled": false,
        "colab": {
          "base_uri": "https://localhost:8080/"
        },
        "id": "TXQx3rEmA6dg",
        "outputId": "4808d974-13ed-4353-c904-ebc1cf2c8ba4"
      },
      "outputs": [
        {
          "output_type": "stream",
          "name": "stdout",
          "text": [
            "train data\n",
            "(60000, 28, 28)\n",
            "(60000,)\n",
            "\n",
            " test data\n",
            "(10000, 28, 28)\n",
            "(10000,)\n"
          ]
        }
      ],
      "source": [
        "print(\"train data\")\n",
        "print(x_train.shape)\n",
        "print(y_train.shape)\n",
        "print(\"\\n test data\")\n",
        "print(x_test.shape)\n",
        "print(y_test.shape)"
      ]
    },
    {
      "cell_type": "markdown",
      "metadata": {
        "id": "dFNtXZbXA6dg"
      },
      "source": [
        "So we have 60,000 training and 10,000 test images each of size 28 x 28. Note that the images are grayscale and thus are stored as 2D arrays.<br>\n",
        "\n",
        "Also, let's sample only 20k images for training (just to speed up the training a bit)."
      ]
    },
    {
      "cell_type": "code",
      "source": [
        "x_train.shape"
      ],
      "metadata": {
        "colab": {
          "base_uri": "https://localhost:8080/"
        },
        "id": "S-Sez7axBifS",
        "outputId": "b21592aa-afbe-4837-bd4b-adbb6a3f3536"
      },
      "execution_count": null,
      "outputs": [
        {
          "output_type": "execute_result",
          "data": {
            "text/plain": [
              "(60000, 28, 28)"
            ]
          },
          "metadata": {},
          "execution_count": 5
        }
      ]
    },
    {
      "cell_type": "code",
      "execution_count": null,
      "metadata": {
        "colab": {
          "base_uri": "https://localhost:8080/"
        },
        "id": "MjkwjVqlA6dg",
        "outputId": "2c954b67-7751-40b7-9dfe-f93185b31049"
      },
      "outputs": [
        {
          "output_type": "stream",
          "name": "stdout",
          "text": [
            "(20000, 28, 28)\n",
            "(20000,)\n"
          ]
        }
      ],
      "source": [
        "# sample only 20k images for training\n",
        "idx = np.random.randint(x_train.shape[0], size=20000) # sample 20k indices from 0-60,000\n",
        "x_train = x_train[idx, :]\n",
        "y_train = y_train[idx]\n",
        "print(x_train.shape)\n",
        "print(y_train.shape)"
      ]
    },
    {
      "cell_type": "markdown",
      "metadata": {
        "id": "Mq6sfXIWA6dh"
      },
      "source": [
        "## 2. Data Preparation\n",
        "\n",
        "Let's prepare the dataset for feeding to the network. We will do the following three main steps:<br>\n",
        "\n",
        "#### 2.1 Reshape the Data\n",
        "First, let's understand the shape in which the network expects the training data.\n",
        "Since we have 20,000 training samples each of size (28, 28, 1), the training data (`x_train`) needs to be of the shape `(20000, 28, 28, 1)`. If the images were coloured, the shape would have been `(20000, 28, 28, 3)`.\n",
        "\n",
        "Further, each of the 20,000 images have a 0-9 label, so `y_train` needs to be of the shape `(20000, 10)` where each image's label is represented as a 10-d **one-hot encoded vector**.\n",
        "\n",
        "The shapes of `x_test` and `y_test` will be the same as that of `x_train` and `y_train` respectively.\n",
        "\n",
        "#### 2.2 Rescaling (Normalisation)\n",
        "The value of each pixel is between 0-255, so we will **rescale each pixel** by dividing by 255 so that the range becomes 0-1. Recollect <a href=\"https://stats.stackexchange.com/questions/185853/why-do-we-need-to-normalize-the-images-before-we-put-them-into-cnn\">why normalisation is important for training NNs</a>.\n",
        "\n",
        "#### 2.3 Converting Input Data Type: Int to Float\n",
        "The pixels are originally stored as type `int`, but it is advisable to feed the data as `float`. This is not really compulsory, but advisable. You can read <a href=\"https://datascience.stackexchange.com/questions/13636/neural-network-data-type-conversion-float-from-int\">why conversion from int to float is helpful here</a>.\n"
      ]
    },
    {
      "cell_type": "code",
      "execution_count": null,
      "metadata": {
        "id": "1aufmbYHA6di"
      },
      "outputs": [],
      "source": [
        "# specify input dimensions of each image\n",
        "img_rows, img_cols = 28, 28\n",
        "input_shape = (img_rows, img_cols, 1)\n",
        "\n",
        "# batch size, number of classes, epochs\n",
        "batch_size = 128\n",
        "num_classes = 10\n",
        "epochs = 12"
      ]
    },
    {
      "cell_type": "markdown",
      "metadata": {
        "id": "9UFzfaF3A6di"
      },
      "source": [
        "Let's now reshape the array `x_train` from shape `(20000, 28, 28)`to `(20000, 28, 28, 1)`. Analogously for `x_test`."
      ]
    },
    {
      "cell_type": "code",
      "source": [
        "x_train.shape"
      ],
      "metadata": {
        "colab": {
          "base_uri": "https://localhost:8080/"
        },
        "id": "6ADnk1H1DgPf",
        "outputId": "d2caeb73-1d4f-4b74-871d-a4130ecbffb0"
      },
      "execution_count": null,
      "outputs": [
        {
          "output_type": "execute_result",
          "data": {
            "text/plain": [
              "(20000, 28, 28)"
            ]
          },
          "metadata": {},
          "execution_count": 9
        }
      ]
    },
    {
      "cell_type": "code",
      "execution_count": null,
      "metadata": {
        "scrolled": true,
        "colab": {
          "base_uri": "https://localhost:8080/"
        },
        "id": "2KEBILuaA6dj",
        "outputId": "46d7d686-9e0c-4ff2-97db-a1bf33f9f21a"
      },
      "outputs": [
        {
          "output_type": "stream",
          "name": "stdout",
          "text": [
            "(20000, 28, 28, 1)\n",
            "(10000, 28, 28, 1)\n"
          ]
        }
      ],
      "source": [
        "# reshape x_train and x_test\n",
        "x_train = x_train.reshape(x_train.shape[0], img_rows, img_cols, 1)\n",
        "x_test = x_test.reshape(x_test.shape[0], img_rows, img_cols, 1)\n",
        "print(x_train.shape)\n",
        "print(x_test.shape)"
      ]
    },
    {
      "cell_type": "markdown",
      "metadata": {
        "id": "haNCUJghA6dj"
      },
      "source": [
        "Now let's reshape `y_train` from `(20000,)` to `(20000, 10)`. This can be conveniently done using the keras' `utils` module."
      ]
    },
    {
      "cell_type": "code",
      "source": [
        "y_train"
      ],
      "metadata": {
        "colab": {
          "base_uri": "https://localhost:8080/"
        },
        "id": "WidBRmfzD3RO",
        "outputId": "287ff173-ba6f-4aab-cb17-538113c66b5d"
      },
      "execution_count": null,
      "outputs": [
        {
          "output_type": "execute_result",
          "data": {
            "text/plain": [
              "array([9, 5, 8, ..., 6, 0, 2], dtype=uint8)"
            ]
          },
          "metadata": {},
          "execution_count": 12
        }
      ]
    },
    {
      "cell_type": "code",
      "execution_count": null,
      "metadata": {
        "scrolled": true,
        "colab": {
          "base_uri": "https://localhost:8080/"
        },
        "id": "2MBH2tGOA6dj",
        "outputId": "a992bb6c-3295-4832-fd66-27b474fbeeef"
      },
      "outputs": [
        {
          "output_type": "stream",
          "name": "stdout",
          "text": [
            "(20000, 10)\n"
          ]
        }
      ],
      "source": [
        "# convert class labels (from digits) to one-hot encoded vectors\n",
        "y_train = tf.keras.utils.to_categorical(y_train, num_classes)\n",
        "y_test = tf.keras.utils.to_categorical(y_test, num_classes)\n",
        "print(y_train.shape)"
      ]
    },
    {
      "cell_type": "markdown",
      "metadata": {
        "id": "fyPUw3UIA6dj"
      },
      "source": [
        "Finally, let's convert the data type of `x_train` and `x_test` from int to float and normalise the images."
      ]
    },
    {
      "cell_type": "code",
      "execution_count": null,
      "metadata": {
        "colab": {
          "base_uri": "https://localhost:8080/"
        },
        "id": "hzWmZf8sA6dj",
        "outputId": "ba3fbf7a-59df-4505-ff9e-0902d70be05a"
      },
      "outputs": [
        {
          "output_type": "execute_result",
          "data": {
            "text/plain": [
              "dtype('uint8')"
            ]
          },
          "metadata": {},
          "execution_count": 14
        }
      ],
      "source": [
        "# originally, the pixels are stored as ints\n",
        "x_train.dtype"
      ]
    },
    {
      "cell_type": "code",
      "execution_count": null,
      "metadata": {
        "id": "NaDOZzIJA6dj"
      },
      "outputs": [],
      "source": [
        "# convert int to float\n",
        "x_train = x_train.astype('float32')\n",
        "x_test = x_test.astype('float32')\n",
        "\n",
        "# normalise\n",
        "x_train /= 255\n",
        "x_test /= 255"
      ]
    },
    {
      "cell_type": "markdown",
      "metadata": {
        "id": "PFsrrZD1A6dk"
      },
      "source": [
        "## 3. Building the Model"
      ]
    },
    {
      "cell_type": "markdown",
      "metadata": {
        "id": "-ub_rYSzA6dk"
      },
      "source": [
        "Let's now build the CNN architecture. For the MNIST dataset, we do not need to build a very sophisticated CNN - a simple shallow-ish CNN would suffice.\n",
        "\n",
        "We will build a network with:\n",
        "- two convolutional layers having 32 and 64 filters respectively,\n",
        "- followed by a max pooling layer,\n",
        "- and then `Flatten` the output of the pooling layer to give us a long vector,\n",
        "- then add a fully connected `Dense` layer with 128 neurons, and finally\n",
        "- add a `softmax` layer with 10 neurons\n",
        "\n",
        "The generic way to build a model in Keras is to instantiate a `Sequential` model and keep adding `keras.layers` to it. We will also use some dropouts."
      ]
    },
    {
      "cell_type": "code",
      "execution_count": null,
      "metadata": {
        "scrolled": false,
        "colab": {
          "base_uri": "https://localhost:8080/"
        },
        "id": "zt4gO_muA6dk",
        "outputId": "c05e032a-5691-4d31-8e6f-b6319c955f1a"
      },
      "outputs": [
        {
          "output_type": "stream",
          "name": "stdout",
          "text": [
            "Model: \"sequential\"\n",
            "_________________________________________________________________\n",
            " Layer (type)                Output Shape              Param #   \n",
            "=================================================================\n",
            " conv2d (Conv2D)             (None, 26, 26, 32)        320       \n",
            "                                                                 \n",
            " conv2d_1 (Conv2D)           (None, 24, 24, 64)        18496     \n",
            "                                                                 \n",
            " max_pooling2d (MaxPooling2  (None, 12, 12, 64)        0         \n",
            " D)                                                              \n",
            "                                                                 \n",
            " dropout (Dropout)           (None, 12, 12, 64)        0         \n",
            "                                                                 \n",
            " flatten (Flatten)           (None, 9216)              0         \n",
            "                                                                 \n",
            " dense (Dense)               (None, 128)               1179776   \n",
            "                                                                 \n",
            " dropout_1 (Dropout)         (None, 128)               0         \n",
            "                                                                 \n",
            " dense_1 (Dense)             (None, 10)                1290      \n",
            "                                                                 \n",
            "=================================================================\n",
            "Total params: 1199882 (4.58 MB)\n",
            "Trainable params: 1199882 (4.58 MB)\n",
            "Non-trainable params: 0 (0.00 Byte)\n",
            "_________________________________________________________________\n"
          ]
        }
      ],
      "source": [
        "# model\n",
        "model = Sequential()\n",
        "\n",
        "# a keras convolutional layer is called Conv2D\n",
        "# help(Conv2D)\n",
        "# note that the first layer needs to be told the input shape explicitly\n",
        "\n",
        "# first conv layer\n",
        "model.add(Conv2D(32, kernel_size=(3, 3),\n",
        "                 activation='relu',\n",
        "                 input_shape=input_shape)) # input shape = (img_rows, img_cols, 1)\n",
        "\n",
        "# second conv layer\n",
        "model.add(Conv2D(64, kernel_size=(3, 3),\n",
        "                 activation='relu'))\n",
        "model.add(MaxPooling2D(pool_size=(2, 2)))\n",
        "model.add(Dropout(0.25))\n",
        "\n",
        "# flatten and put a fully connected layer\n",
        "model.add(Flatten())\n",
        "model.add(Dense(128, activation='relu')) # fully connected\n",
        "model.add(Dropout(0.5))\n",
        "\n",
        "# softmax layer\n",
        "model.add(Dense(num_classes, activation='softmax'))\n",
        "\n",
        "# model summary\n",
        "model.summary()\n"
      ]
    },
    {
      "cell_type": "markdown",
      "metadata": {
        "id": "e4mzrcrUA6dk"
      },
      "source": [
        "#### Understanding Model Summary\n",
        "\n",
        "It is a good practice to spend some time staring at the model summary above and verify the number of parameteres, output sizes etc. Let's do some calculations to verify that we understand the model deeply enough.\n",
        "\n",
        "- Layer-1 (Conv2D): We have used 32 kernels of size (3, 3), and each kernel has a single bias, so we have 32 x 3 x 3 (weights) + 32 (biases) = 320 parameters (all trainable). Note that the kernels have only one channel since the input images are 2D (grayscale). By default, a convolutional layer uses stride of 1 and no padding, so the output from this layer is of shape 26 x 26 x 32, as shown in the summary above (the first element `None` is for the batch size).\n",
        "\n",
        "- Layer-2 (Conv2D): We have used 64 kernels of size (3, 3), but this time, each kernel has to convolve a tensor of size (26, 26, 32) from the previous layer. Thus, the kernels will also have 32 channels, and so the shape of each kernel is (3, 3, 32) (and we have 64 of them). So we have 64 x 3 x 3 x 32 (weights) + 64 (biases) = 18496 parameters (all trainable). The output shape is (24, 24, 64) since each kernel produces a (24, 24) feature map.\n",
        "\n",
        "- Max pooling: The pooling layer gets the (24, 24, 64) input from the previous conv layer and produces a (12, 12, 64) output (the default pooling uses stride of 2). There are no trainable parameters in the pooling layer.\n",
        "\n",
        "- The `Dropout` layer does not alter the output shape and has no trainable parameters.\n",
        "\n",
        "- The `Flatten` layer simply takes in the (12, 12, 64) output from the previous layer and 'flattens' it into a vector of length 12 x 12 x 64 = 9216.\n",
        "\n",
        "- The `Dense` layer is a plain fully connected layer with 128 neurons. It takes the 9216-dimensional output vector from the previous layer (layer l-1) as the input and has 128 x 9216 (weights) + 128 (biases) =  1179776 trainable parameters. The output of this layer is a 128-dimensional vector.\n",
        "\n",
        "- The `Dropout` layer simply drops a few neurons.\n",
        "\n",
        "- Finally, we have a `Dense` softmax layer with 10 neurons which takes the 128-dimensional vector from the previous layer as input. It has 128 x 10 (weights) + 10 (biases) = 1290 trainable parameters.\n",
        "\n",
        "Thus, the total number of parameters are 1,199,882 all of which are trainable."
      ]
    },
    {
      "cell_type": "markdown",
      "metadata": {
        "id": "Y0AktbJZA6dk"
      },
      "source": [
        "## 4. Fitting and Evaluating the Model\n",
        "\n",
        "Let's now compile and train the model."
      ]
    },
    {
      "cell_type": "code",
      "execution_count": null,
      "metadata": {
        "id": "1cTaLfKJA6dk"
      },
      "outputs": [],
      "source": [
        "# usual cross entropy loss\n",
        "# choose any optimiser such as adam, rmsprop etc\n",
        "# metric is accuracy\n",
        "model.compile(loss=tf.keras.losses.categorical_crossentropy,\n",
        "              optimizer=tf.keras.optimizers.Adadelta(),\n",
        "              metrics=['accuracy'])"
      ]
    },
    {
      "cell_type": "code",
      "execution_count": null,
      "metadata": {
        "scrolled": false,
        "colab": {
          "base_uri": "https://localhost:8080/"
        },
        "id": "0RwKJbkAA6dk",
        "outputId": "73325f7f-c3e7-4af5-bf53-c6b58b7244a8"
      },
      "outputs": [
        {
          "output_type": "stream",
          "name": "stdout",
          "text": [
            "Epoch 1/12\n",
            "157/157 [==============================] - 32s 202ms/step - loss: 2.3052 - accuracy: 0.1199 - val_loss: 2.2951 - val_accuracy: 0.2018\n",
            "Epoch 2/12\n",
            "157/157 [==============================] - 31s 199ms/step - loss: 2.2907 - accuracy: 0.1556 - val_loss: 2.2790 - val_accuracy: 0.2520\n",
            "Epoch 3/12\n",
            "157/157 [==============================] - 31s 199ms/step - loss: 2.2755 - accuracy: 0.1905 - val_loss: 2.2627 - val_accuracy: 0.2973\n",
            "Epoch 4/12\n",
            "157/157 [==============================] - 31s 195ms/step - loss: 2.2603 - accuracy: 0.2290 - val_loss: 2.2455 - val_accuracy: 0.3393\n",
            "Epoch 5/12\n",
            "157/157 [==============================] - 31s 198ms/step - loss: 2.2443 - accuracy: 0.2603 - val_loss: 2.2274 - val_accuracy: 0.3751\n",
            "Epoch 6/12\n",
            "157/157 [==============================] - 31s 198ms/step - loss: 2.2277 - accuracy: 0.2862 - val_loss: 2.2078 - val_accuracy: 0.4029\n",
            "Epoch 7/12\n",
            "157/157 [==============================] - 31s 198ms/step - loss: 2.2095 - accuracy: 0.3183 - val_loss: 2.1862 - val_accuracy: 0.4307\n",
            "Epoch 8/12\n",
            "157/157 [==============================] - 31s 196ms/step - loss: 2.1881 - accuracy: 0.3388 - val_loss: 2.1623 - val_accuracy: 0.4538\n",
            "Epoch 9/12\n",
            "157/157 [==============================] - 31s 198ms/step - loss: 2.1653 - accuracy: 0.3658 - val_loss: 2.1355 - val_accuracy: 0.4837\n",
            "Epoch 10/12\n",
            "157/157 [==============================] - 31s 198ms/step - loss: 2.1390 - accuracy: 0.3913 - val_loss: 2.1054 - val_accuracy: 0.5156\n",
            "Epoch 11/12\n",
            "157/157 [==============================] - 31s 196ms/step - loss: 2.1111 - accuracy: 0.4110 - val_loss: 2.0719 - val_accuracy: 0.5482\n",
            "Epoch 12/12\n",
            "157/157 [==============================] - 31s 197ms/step - loss: 2.0791 - accuracy: 0.4290 - val_loss: 2.0347 - val_accuracy: 0.5758\n"
          ]
        },
        {
          "output_type": "execute_result",
          "data": {
            "text/plain": [
              "<keras.src.callbacks.History at 0x7fd039492950>"
            ]
          },
          "metadata": {},
          "execution_count": 18
        }
      ],
      "source": [
        "# fit the model\n",
        "# this should take around 10-15 minutes when run locally on a windows/mac PC\n",
        "model.fit(x_train, y_train,\n",
        "          batch_size=batch_size,\n",
        "          epochs=epochs,\n",
        "          verbose=1,\n",
        "          validation_data=(x_test, y_test))"
      ]
    },
    {
      "cell_type": "code",
      "execution_count": null,
      "metadata": {
        "scrolled": false,
        "colab": {
          "base_uri": "https://localhost:8080/"
        },
        "id": "0TbvQuVjA6dk",
        "outputId": "fa411f89-6e68-4461-e940-6beba44b1acc"
      },
      "outputs": [
        {
          "output_type": "stream",
          "name": "stdout",
          "text": [
            "313/313 [==============================] - 5s 15ms/step - loss: 2.0347 - accuracy: 0.5758\n"
          ]
        },
        {
          "output_type": "execute_result",
          "data": {
            "text/plain": [
              "[2.034654378890991, 0.5758000016212463]"
            ]
          },
          "metadata": {},
          "execution_count": 19
        }
      ],
      "source": [
        "# evaluate the model on test data\n",
        "model.evaluate(x_test, y_test)"
      ]
    },
    {
      "cell_type": "code",
      "execution_count": null,
      "metadata": {
        "colab": {
          "base_uri": "https://localhost:8080/"
        },
        "id": "Nz5K8SllA6dk",
        "outputId": "a3b78e23-03bc-40a2-cafc-7220ba2787d5"
      },
      "outputs": [
        {
          "output_type": "stream",
          "name": "stdout",
          "text": [
            "['loss', 'accuracy']\n"
          ]
        }
      ],
      "source": [
        "print(model.metrics_names)"
      ]
    },
    {
      "cell_type": "markdown",
      "metadata": {
        "id": "yaB-ld0gA6dk"
      },
      "source": [
        "The final loss (on test data) is about 0.04 and the accuracy is 98.59%."
      ]
    }
  ],
  "metadata": {
    "kernelspec": {
      "display_name": "Python 3",
      "language": "python",
      "name": "python3"
    },
    "language_info": {
      "codemirror_mode": {
        "name": "ipython",
        "version": 3
      },
      "file_extension": ".py",
      "mimetype": "text/x-python",
      "name": "python",
      "nbconvert_exporter": "python",
      "pygments_lexer": "ipython3",
      "version": "3.7.3"
    },
    "colab": {
      "provenance": []
    }
  },
  "nbformat": 4,
  "nbformat_minor": 0
}